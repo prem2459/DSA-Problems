{
 "cells": [
  {
   "cell_type": "markdown",
   "metadata": {},
   "source": [
    "Reverse an array"
   ]
  },
  {
   "cell_type": "code",
   "execution_count": null,
   "metadata": {},
   "outputs": [],
   "source": [
    "def rev(a):\n",
    "    for i in range(0,len(a)//2):\n",
    "        a[i],a[len(a)-i-1]=a[len(a)-i-1],a[i]\n",
    "    print(a)\n",
    "\n",
    "if __name__ == '__main__':\n",
    "    a=[1,2,3,4,5,6,7,8]\n",
    "    rev(a)\n",
    "    \n",
    "    "
   ]
  },
  {
   "cell_type": "markdown",
   "metadata": {},
   "source": [
    "Given an array rotate it by K steps"
   ]
  },
  {
   "cell_type": "code",
   "execution_count": null,
   "metadata": {},
   "outputs": [],
   "source": [
    "def rotate(a,k):\n",
    "    for i in range(0,len(a)//2):\n",
    "        a[i],a[len(a)-1-i]= a[len(a)-1-i],a[i]\n",
    "    \n",
    "    for i in range(0,k//2):\n",
    "        a[i],a[k-1-i]= a[k-1-i],a[i]\n",
    "    \n",
    "    l=k\n",
    "    r=len(a)\n",
    "    while k<r:\n",
    "        a[l],a[k]=a[k],a[l]\n",
    "        l+=1\n",
    "        r-=1\n",
    "\n",
    "    print(a)\n",
    "if __name__ == '__main__':\n",
    "    a=[1,2,3,4,5,6,7]\n",
    "    k=3\n",
    "    rotate(a,k)\n",
    "\n",
    "    "
   ]
  },
  {
   "cell_type": "markdown",
   "metadata": {},
   "source": [
    "Print a 2D matrix in spiral order"
   ]
  },
  {
   "cell_type": "code",
   "execution_count": null,
   "metadata": {},
   "outputs": [],
   "source": [
    "def spiralOrder(matrix):\n",
    "        res = []\n",
    "        if len(matrix) == 0:\n",
    "            return res\n",
    "        row_begin = 0\n",
    "        col_begin = 0\n",
    "        row_end = len(matrix)-1 \n",
    "        col_end = len(matrix[0])-1\n",
    "        while (row_begin <= row_end and col_begin <= col_end):\n",
    "            for i in range(col_begin,col_end+1):\n",
    "                res.append(matrix[row_begin][i])\n",
    "            row_begin += 1\n",
    "            for i in range(row_begin,row_end+1):\n",
    "                res.append(matrix[i][col_end])\n",
    "            col_end -= 1\n",
    "            if (row_begin <= row_end):\n",
    "                for i in range(col_end,col_begin-1,-1):\n",
    "                    res.append(matrix[row_end][i])\n",
    "                row_end -= 1\n",
    "            if (col_begin <= col_end):\n",
    "                for i in range(row_end,row_begin-1,-1):\n",
    "                    res.append(matrix[i][col_begin])\n",
    "                col_begin += 1\n",
    "        return res\n",
    "\n",
    "if __name__ == '__main__':\n",
    "    matrix=[[1,2,3],[4,5,6],[7,8,9]]\n",
    "    print(spiralOrder(matrix))\n",
    "    \n"
   ]
  },
  {
   "cell_type": "markdown",
   "metadata": {},
   "source": [
    "Given a matrix of 0 and 1s, all the rows are sorted. find the row with maximum number of 1's"
   ]
  },
  {
   "cell_type": "code",
   "execution_count": 5,
   "metadata": {},
   "outputs": [
    {
     "name": "stdout",
     "output_type": "stream",
     "text": [
      "Index of row with maximum 1s is 2\n"
     ]
    }
   ],
   "source": [
    "def rowWithMax1s( matrix):\n",
    "    R= len(matrix)\n",
    "    C = len(matrix[0])\n",
    "    MaxRowIndex=0\n",
    "    Index=C-1\n",
    "\n",
    "    for i in range(0,R):\n",
    "        flag=False\n",
    "        while Index>=0 and matrix[i][Index]==1:\n",
    "            flag=True\n",
    "            Index-=1\n",
    "            if(flag):\n",
    "                MaxRowIndex=i\n",
    "    # if MaxRowIndex==0 and matrix[0][C-1]==0:\n",
    "    #     return 0\n",
    "    return MaxRowIndex\n",
    "\n",
    " \n",
    "# Driver Code\n",
    "mat = [[0, 0, 0, 0],\n",
    "    [0, 1, 1, 1],\n",
    "    [1, 1, 1, 1],\n",
    "    [0, 0, 0, 0]]\n",
    "print (\"Index of row with maximum 1s is\",\n",
    "    rowWithMax1s(mat))"
   ]
  }
 ],
 "metadata": {
  "kernelspec": {
   "display_name": "Python 3.10.4 64-bit",
   "language": "python",
   "name": "python3"
  },
  "language_info": {
   "codemirror_mode": {
    "name": "ipython",
    "version": 3
   },
   "file_extension": ".py",
   "mimetype": "text/x-python",
   "name": "python",
   "nbconvert_exporter": "python",
   "pygments_lexer": "ipython3",
   "version": "3.10.4"
  },
  "orig_nbformat": 4,
  "vscode": {
   "interpreter": {
    "hash": "369f2c481f4da34e4445cda3fffd2e751bd1c4d706f27375911949ba6bb62e1c"
   }
  }
 },
 "nbformat": 4,
 "nbformat_minor": 2
}
