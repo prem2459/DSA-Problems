{
 "cells": [
  {
   "cell_type": "markdown",
   "metadata": {},
   "source": [
    "Given an array each number appears twice except one number the appears once"
   ]
  },
  {
   "cell_type": "code",
   "execution_count": 5,
   "metadata": {},
   "outputs": [
    {
     "name": "stdout",
     "output_type": "stream",
     "text": [
      "3\n"
     ]
    }
   ],
   "source": [
    "def findnum(a):\n",
    "    res=0\n",
    "    for i in range(0,len(a)):\n",
    "        res^=a[i]\n",
    "    return res\n",
    "\n",
    "if __name__ == '__main__':\n",
    "    a = [2,3,4,2,3,4,9,9,3]\n",
    "    print(findnum(a))\n",
    "    \n"
   ]
  },
  {
   "cell_type": "markdown",
   "metadata": {},
   "source": [
    "An array can contain only numbers from 1 to n except one number, output the missing number"
   ]
  },
  {
   "cell_type": "code",
   "execution_count": 92,
   "metadata": {},
   "outputs": [
    {
     "name": "stdout",
     "output_type": "stream",
     "text": [
      "3\n"
     ]
    }
   ],
   "source": [
    "def findnum(a):\n",
    "    res=0\n",
    "    for i in range(0,len(a)):\n",
    "        res^= a[i]\n",
    "    \n",
    "    for i in range(0,len(a)+1):\n",
    "        res^=(i+1) \n",
    "    \n",
    "        \n",
    "    return res\n",
    "\n",
    "if __name__ == '__main__':\n",
    "    a = [1,2,4]\n",
    "    print(findnum(a))"
   ]
  },
  {
   "cell_type": "markdown",
   "metadata": {},
   "source": [
    "Given a number check if the i th bit is set or not"
   ]
  },
  {
   "cell_type": "code",
   "execution_count": 105,
   "metadata": {},
   "outputs": [
    {
     "name": "stdout",
     "output_type": "stream",
     "text": [
      "0\n",
      "Not Set\n"
     ]
    }
   ],
   "source": [
    "def isSet(n,i):\n",
    "    print(n & (1<<i))\n",
    "    if n & (1<<i):\n",
    "        print(\"Set\")\n",
    "    else:\n",
    "        print(\"Not Set\")\n",
    "\n",
    "if __name__ == '__main__':\n",
    "    isSet(236,8)   # 236 -- 11101100\n",
    "    "
   ]
  }
 ],
 "metadata": {
  "kernelspec": {
   "display_name": "Python 3.10.4 64-bit",
   "language": "python",
   "name": "python3"
  },
  "language_info": {
   "codemirror_mode": {
    "name": "ipython",
    "version": 3
   },
   "file_extension": ".py",
   "mimetype": "text/x-python",
   "name": "python",
   "nbconvert_exporter": "python",
   "pygments_lexer": "ipython3",
   "version": "3.10.4"
  },
  "orig_nbformat": 4,
  "vscode": {
   "interpreter": {
    "hash": "369f2c481f4da34e4445cda3fffd2e751bd1c4d706f27375911949ba6bb62e1c"
   }
  }
 },
 "nbformat": 4,
 "nbformat_minor": 2
}
