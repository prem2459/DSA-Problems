{
 "cells": [
  {
   "cell_type": "markdown",
   "metadata": {},
   "source": [
    "Length of longest consecutive ones by at most one swap in a Binary String\n",
    "\n",
    "\n",
    "Approach: \n",
    " \n",
    "\n",
    "Count all 1’s in the array in a variable say cnt_one.\n",
    "Maintain two vectors or arrays storing cumulative ones from left and right.\n",
    "Whenever there is a 0: \n",
    "if (left[i-1]+right[i+1] < cnt_one) store max_count = left[i-1] + right [i+1] + 1, as by swapping we will get one extra one in place of 0.\n",
    "else max_count = left[i-1] + right[i+1].\n",
    "Output is the maximum value of max_count that can be achieved."
   ]
  },
  {
   "cell_type": "code",
   "execution_count": 33,
   "metadata": {},
   "outputs": [
    {
     "name": "stdout",
     "output_type": "stream",
     "text": [
      "8\n"
     ]
    }
   ],
   "source": [
    "def max_ones(s,n):\n",
    "\n",
    "    #Count the number of ones\n",
    "    cnt_one=0\n",
    "\n",
    "    #maximum number of ones\n",
    "    max_cnt,cnt=0,0\n",
    "\n",
    "    for i in range(0,n):\n",
    "        if s[i]=='1':\n",
    "            cnt_one+=1\n",
    "            cnt+=1\n",
    "        elif s[i]=='0':\n",
    "            max_cnt= max(max_cnt,cnt)\n",
    "            cnt=0\n",
    "    max_cnt= max(max_cnt,cnt)\n",
    "\n",
    "    #we have maximum number of consecutive ones and total number of ones.\n",
    "\n",
    "    #To store cummulative 1's and intializing there first position values\n",
    "    left = [0]*n\n",
    "    right = [0]*n\n",
    "\n",
    "    if s[0]=='1':\n",
    "        left[0]=1\n",
    "        \n",
    "    else:\n",
    "        left[0]==0\n",
    "\n",
    "    \n",
    "    if s[n-1]=='1':\n",
    "        right[n-1]=1\n",
    "    else:\n",
    "        right[n-1]=0\n",
    "    \n",
    "     # Counting cumulative 1's from left\n",
    "    for i in range(1,n):\n",
    "        if s[i] =='1':\n",
    "            left[i]=left[i-1]+1 \n",
    "        else:\n",
    "            left[i]=0    # If 0 then start new cumulativ one from that i\n",
    "    \n",
    "    #counting cumulative ones from right\n",
    "    for i in range(n-2,-1,-1):\n",
    "        if s[i]=='1':\n",
    "            right[i]= right[i+1]+1\n",
    "        else:\n",
    "            right[i]=0\n",
    "\n",
    "    #Looping to find maximumvalue\n",
    "    for i in range(1,n-1):\n",
    "        if s[i]=='0':\n",
    "            sum = left[i-1]+right[i+1]\n",
    "            if sum<cnt_one:\n",
    "                max_cnt= max(max_cnt,sum+1)\n",
    "            else:\n",
    "                max_cnt= max(max_cnt,sum)\n",
    "    \n",
    "    return max_cnt\n",
    "\n",
    "\n",
    "if __name__ == '__main__':\n",
    "    s =\"111011110101111\"\n",
    "    print(max_ones(s,len(s)))\n",
    "    \n",
    "            \n",
    "\n",
    "\n"
   ]
  }
 ],
 "metadata": {
  "kernelspec": {
   "display_name": "Python 3.10.4 64-bit",
   "language": "python",
   "name": "python3"
  },
  "language_info": {
   "codemirror_mode": {
    "name": "ipython",
    "version": 3
   },
   "file_extension": ".py",
   "mimetype": "text/x-python",
   "name": "python",
   "nbconvert_exporter": "python",
   "pygments_lexer": "ipython3",
   "version": "3.10.4"
  },
  "orig_nbformat": 4,
  "vscode": {
   "interpreter": {
    "hash": "369f2c481f4da34e4445cda3fffd2e751bd1c4d706f27375911949ba6bb62e1c"
   }
  }
 },
 "nbformat": 4,
 "nbformat_minor": 2
}
