{
 "cells": [
  {
   "cell_type": "markdown",
   "metadata": {},
   "source": [
    "Find if the given number is a Prime number"
   ]
  },
  {
   "cell_type": "code",
   "execution_count": 3,
   "metadata": {},
   "outputs": [
    {
     "name": "stdout",
     "output_type": "stream",
     "text": [
      "Yes\n"
     ]
    }
   ],
   "source": [
    "import math\n",
    "def main():\n",
    "    n = int(input(\"Enter the number\"))\n",
    "\n",
    "    if n==2:\n",
    "        print(\"Yes\")\n",
    "        return 0\n",
    "    if n%2==0:\n",
    "        print(\"Yes\")\n",
    "        return 0\n",
    "    IsPrime = True\n",
    "    for i in range(3,math.floor(math.sqrt(n))+1,2):\n",
    "        if n%i==0:\n",
    "            IsPrime=False\n",
    "    if IsPrime:\n",
    "        print(\"Yes\")\n",
    "    else:\n",
    "        print(\"No\")\n",
    "    return 0\n",
    "\n",
    "if __name__ == '__main__':\n",
    "    main()\n",
    "    \n"
   ]
  },
  {
   "cell_type": "markdown",
   "metadata": {},
   "source": [
    "Find the square root of n"
   ]
  },
  {
   "cell_type": "code",
   "execution_count": 17,
   "metadata": {},
   "outputs": [
    {
     "name": "stdout",
     "output_type": "stream",
     "text": [
      "24\n"
     ]
    }
   ],
   "source": [
    "import math\n",
    "def squaroot(n):\n",
    "   \n",
    "    start=0\n",
    "    end=n\n",
    "    while start<=end:\n",
    "        mid= (start+end)>>1 #right shift means divide by 2\n",
    "        if (mid*mid)<=n and (mid+1*mid+1)>n:\n",
    "            return mid\n",
    "        \n",
    "        if(mid*mid)<n:\n",
    "            start=mid+1;\n",
    "        else:\n",
    "            end=mid-1\n",
    "    return end\n",
    "\n",
    "        \n",
    "\n",
    "if __name__ == '__main__':\n",
    "     n = int(input())\n",
    "     print(squaroot(n))\n",
    "    \n",
    "\n",
    "\n"
   ]
  }
 ],
 "metadata": {
  "kernelspec": {
   "display_name": "Python 3.10.4 64-bit",
   "language": "python",
   "name": "python3"
  },
  "language_info": {
   "codemirror_mode": {
    "name": "ipython",
    "version": 3
   },
   "file_extension": ".py",
   "mimetype": "text/x-python",
   "name": "python",
   "nbconvert_exporter": "python",
   "pygments_lexer": "ipython3",
   "version": "3.10.4"
  },
  "orig_nbformat": 4,
  "vscode": {
   "interpreter": {
    "hash": "369f2c481f4da34e4445cda3fffd2e751bd1c4d706f27375911949ba6bb62e1c"
   }
  }
 },
 "nbformat": 4,
 "nbformat_minor": 2
}
